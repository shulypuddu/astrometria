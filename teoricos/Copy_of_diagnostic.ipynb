{
  "nbformat": 4,
  "nbformat_minor": 0,
  "metadata": {
    "kernelspec": {
      "display_name": "Python 3",
      "language": "python",
      "name": "python3"
    },
    "language_info": {
      "codemirror_mode": {
        "name": "ipython",
        "version": 3
      },
      "file_extension": ".py",
      "mimetype": "text/x-python",
      "name": "python",
      "nbconvert_exporter": "python",
      "pygments_lexer": "ipython3",
      "version": "3.7.3"
    },
    "colab": {
      "provenance": [],
      "collapsed_sections": [
        "1T963bTaU1Xq",
        "xWKZXdVjU1Xr",
        "7sdePBJeU1Xx",
        "V2r5qg8AXpMQ"
      ]
    }
  },
  "cells": [
    {
      "cell_type": "markdown",
      "metadata": {
        "id": "HrvlKlUgU1Xe"
      },
      "source": [
        "# Code/Astro Diagnostic\n",
        "\n",
        "Hello, and welcome to the Code/Astro diagnostic assignment! Code/Astro classes will assume familiarity with many foundational Python concepts, so we made this notebook to help you self-assess how helpful the workshop will be for you. Don't worry about getting everything right. Feel free to use the internet (online Python tutorials, etc.) to help you complete this diagnostic. If you understand every exercise here, even if you didn't get some of them the first time, you're prepared for Code/Astro.\n",
        "\n",
        "Don't spend more than a few minutes on each exercise; if you can't figure it out after 15 minutes, it's time to move on or ask for help! Aim to spend no more than 90 minutes on the assignment in total. More challenging questions in each section are marked with an asterisk (*). Come back to those after you've completed all the other questions. Feel free to check out our solution set [here](https://colab.research.google.com/drive/1ZctFSkoE0uorM13Js-Djco09ve_7LOEh?usp=sharing) if you get really stuck.\n",
        "\n",
        "If you have questions about the diagnostic, raise an issue (click \"new issue\" on the top right) on [the Code/Astro GitHub page](https://github.com/semaphoreP/codeastro/issues).\n",
        "\n",
        "We also encourage you to read through [this twitter thread](https://twitter.com/SarahCBlunt/status/1375428263602909185?s=20) to learn about the motivation for this assignment."
      ]
    },
    {
      "cell_type": "markdown",
      "metadata": {
        "id": "uEMlmWgrU1Xf"
      },
      "source": [
        "### I: Types and Variables"
      ]
    },
    {
      "cell_type": "markdown",
      "metadata": {
        "id": "BrGmW2kUU1Xg"
      },
      "source": [
        "**1.1.** Python is an object-oriented language, meaning that everything (even basic types like `int`s and `str`s) are represented as objects. Describe and give an example of each of the following types. The first is completed for you.\n",
        "\n",
        "- `int`: integers (no decimals). Example: 345\n",
        "- `str`\n",
        "- `float`\n",
        "- `tuple`\n",
        "- `dict`\n",
        "- `bool`\n",
        "- `numpy.array`\n",
        "\n",
        "**1.2.** Identify the types of the following Python objects (one per line). The first is completed for you."
      ]
    },
    {
      "cell_type": "code",
      "metadata": {
        "id": "-wf2NovnU1Xi"
      },
      "source": [
        "\"foo\"   # type str\n",
        "1.2\n",
        "{\"foo\": 1, \"bar\": 6}\n",
        "100\n",
        "'bar'\n",
        "(1, 2, 3)\n",
        "1e4\n",
        "6 + 1.2"
      ],
      "execution_count": null,
      "outputs": []
    },
    {
      "cell_type": "markdown",
      "metadata": {
        "id": "SJ53DoWEU1Xi"
      },
      "source": [
        "**1.3.** Check your work using the `type()` function. An example is below."
      ]
    },
    {
      "cell_type": "code",
      "metadata": {
        "id": "F677A3_AU1Xj"
      },
      "source": [
        "print(type(True))"
      ],
      "execution_count": null,
      "outputs": []
    },
    {
      "cell_type": "markdown",
      "metadata": {
        "id": "8Zq54E8cU1Xj"
      },
      "source": [
        "**1.4.** What is the `type` of the object `foo` in the code snippet below? Comment the fourth line in to check."
      ]
    },
    {
      "cell_type": "code",
      "metadata": {
        "id": "pfAiCCQjU1Xj"
      },
      "source": [
        "def foo(bar):\n",
        "    return bar\n",
        "\n",
        "# type(foo)"
      ],
      "execution_count": null,
      "outputs": []
    },
    {
      "cell_type": "markdown",
      "metadata": {
        "id": "Da-I2IquU1Xj"
      },
      "source": [
        "**1.5.** What is the `type` of the variable `foo` in the code snippet below?"
      ]
    },
    {
      "cell_type": "code",
      "metadata": {
        "id": "p-J5M-RbU1Xj"
      },
      "source": [
        "foo = 5 + 3.4"
      ],
      "execution_count": null,
      "outputs": []
    },
    {
      "cell_type": "markdown",
      "metadata": {
        "id": "yi378TRvU1Xk"
      },
      "source": [
        "**1.6** Access the first element of the following array, and assign it to the variable `foo`."
      ]
    },
    {
      "cell_type": "code",
      "metadata": {
        "id": "Trbjky9jU1Xk"
      },
      "source": [
        "import numpy as np\n",
        "\n",
        "my_arr = np.array([1, 2, 3])"
      ],
      "execution_count": null,
      "outputs": []
    },
    {
      "cell_type": "markdown",
      "metadata": {
        "id": "R1xEHGoFU1Xk"
      },
      "source": [
        "**1.7.** Access the value with key `foo` in the following dictionary, and assign it to the variable `bar`."
      ]
    },
    {
      "cell_type": "code",
      "metadata": {
        "id": "m_XDVNNeU1Xk"
      },
      "source": [
        "my_dict = {'foo': 1, 'bar': 2}"
      ],
      "execution_count": null,
      "outputs": []
    },
    {
      "cell_type": "markdown",
      "metadata": {
        "id": "bEBfrHq3U1Xk"
      },
      "source": [
        "**(*) 1.8**. Think through the following code. What do you expect `bar` to be at the end? Comment in the last line in the cell below and see if you were right.\n",
        "\n",
        "Note: [this blog post](https://medium.com/@meghamohan/mutable-and-immutable-side-of-python-c2145cf72747) is a good overview of what's going on here."
      ]
    },
    {
      "cell_type": "code",
      "metadata": {
        "id": "l5ltp3tnU1Xl",
        "colab": {
          "base_uri": "https://localhost:8080/"
        },
        "outputId": "82788bc7-f373-4e8b-f290-9d6fd7a6e845"
      },
      "source": [
        "foo = [1, 2, 3]\n",
        "bar = foo\n",
        "foo.pop() # removes the last element of the list\n",
        "# print(bar)"
      ],
      "execution_count": null,
      "outputs": [
        {
          "output_type": "execute_result",
          "data": {
            "text/plain": [
              "3"
            ]
          },
          "metadata": {},
          "execution_count": 1
        }
      ]
    },
    {
      "cell_type": "markdown",
      "metadata": {
        "id": "8RsUrUI3XBRZ"
      },
      "source": [
        "### II: Conditionals"
      ]
    },
    {
      "cell_type": "markdown",
      "metadata": {
        "id": "-kQYJX1IXOd4"
      },
      "source": [
        "**2.1** Write a piece of code that prints \"positive\" if ``x`` is greater than 0, \"negative\" if ``x`` is less than 0, and \"0\" if ``x`` is 0."
      ]
    },
    {
      "cell_type": "code",
      "metadata": {
        "id": "fVfAwDknYIav"
      },
      "source": [
        "x = 5\n",
        "\n",
        "# your code here"
      ],
      "execution_count": null,
      "outputs": []
    },
    {
      "cell_type": "markdown",
      "metadata": {
        "id": "J_aBD0I0YLL3"
      },
      "source": [
        "**2.2** Write a piece of code that adds 5 to the variable ``x`` until ``x`` is equal to 20."
      ]
    },
    {
      "cell_type": "code",
      "metadata": {
        "id": "DpRPoCtNYh_n"
      },
      "source": [],
      "execution_count": null,
      "outputs": []
    },
    {
      "cell_type": "markdown",
      "metadata": {
        "id": "CxRMloqBYjRM"
      },
      "source": [
        "**2.3** Write a piece of code that loops over names in the list ``instructor_names`` and prints out \"<<instructor's name>> is awesome!\""
      ]
    },
    {
      "cell_type": "code",
      "metadata": {
        "id": "apHn3BdxZLtp"
      },
      "source": [
        "instructor_names = ['Sarah', 'Jason', 'BJ']\n",
        "\n",
        "# your code here"
      ],
      "execution_count": null,
      "outputs": []
    },
    {
      "cell_type": "markdown",
      "metadata": {
        "id": "i1RWPLuCVXnq"
      },
      "source": [
        "### III: Functions and Classes"
      ]
    },
    {
      "cell_type": "markdown",
      "metadata": {
        "id": "iunG6KLAU1Xl"
      },
      "source": [
        "**3.1** Define a function that takes in two integers and returns their product."
      ]
    },
    {
      "cell_type": "code",
      "metadata": {
        "id": "Wn6xVPkLU1Xl"
      },
      "source": [],
      "execution_count": null,
      "outputs": []
    },
    {
      "cell_type": "markdown",
      "metadata": {
        "id": "2f5XuQW-U1Xl"
      },
      "source": [
        "**(*) 3.2** Define a [recursive](https://realpython.com/python-thinking-recursively/#recursive-functions-in-python) function that computes the factorial of an integer. Test your function by computing 5! (the answer should be 120)."
      ]
    },
    {
      "cell_type": "code",
      "metadata": {
        "id": "Z58viDmlU1Xl"
      },
      "source": [],
      "execution_count": null,
      "outputs": []
    },
    {
      "cell_type": "markdown",
      "metadata": {
        "id": "xbOia59_U1Xl"
      },
      "source": [
        "Let's define and play with a simple class. If you haven't seen classes before, and/or you're shaky on the concept of inheritance, we recommend reading through [this blog post](https://dev.to/oluchi/a-gentle-introduction-to-python-classes-for-newbies-p46) before continuing."
      ]
    },
    {
      "cell_type": "code",
      "metadata": {
        "id": "LH4tq5Y6U1Xl"
      },
      "source": [
        "class Numbers(object):\n",
        "    \"\"\"\n",
        "    Class containing two floats that computes their product & sum.\n",
        "\n",
        "    Args:\n",
        "        a (float): number 1\n",
        "        b (float): number 2\n",
        "    \"\"\"\n",
        "\n",
        "    def __init__(self, a, b):\n",
        "        self.a = a\n",
        "        self.b = b\n",
        "\n",
        "    def __repr__(self):\n",
        "        return \"The numbers {} and {}.\".format(self.a, self.b)\n",
        "\n",
        "    def num_sum(self):\n",
        "        \"\"\"\n",
        "        Compute the sum of `a` and `b`\n",
        "\n",
        "        Returns:\n",
        "            float: sum of `a` and `b`\n",
        "        \"\"\"\n",
        "        return self.a + self.b\n",
        "\n",
        "    def num_prod(self):\n",
        "        \"\"\"\n",
        "        Compute the product of `a` and `b`\n",
        "\n",
        "        Returns:\n",
        "            float: product of `a` and `b`\n",
        "        \"\"\"\n",
        "        return self.a * self.b\n",
        "\n",
        "myNumbers = Numbers(1, 2)\n",
        "print(myNumbers)\n",
        "my_sum = myNumbers.num_sum()"
      ],
      "execution_count": null,
      "outputs": []
    },
    {
      "cell_type": "markdown",
      "metadata": {
        "id": "y9ZW0IXWU1Xm"
      },
      "source": [
        "**3.3** Use the `Numbers` class to find the product of 100 and 350, and assign the result to the variable `my_prod`."
      ]
    },
    {
      "cell_type": "code",
      "metadata": {
        "id": "vVTh3P81U1Xm"
      },
      "source": [],
      "execution_count": null,
      "outputs": []
    },
    {
      "cell_type": "markdown",
      "metadata": {
        "id": "gbLmg0hyU1Xm"
      },
      "source": [
        "**(*) 3.4** Define a class `Integers` that inherits from `Numbers`. It should have an additional method, `fact_product` that computes the factorial of the product of two numbers. Instantiate your `Integers` class and compute the product of the factorial of 10 and 2 (you can use the function you defined in **3.2**)."
      ]
    },
    {
      "cell_type": "code",
      "metadata": {
        "id": "8T28tgMrU1Xm"
      },
      "source": [],
      "execution_count": null,
      "outputs": []
    },
    {
      "cell_type": "markdown",
      "metadata": {
        "id": "cki6WwztiW4A"
      },
      "source": [
        "**3.5** Args, kwargs, aaaarrrgh.... Take a look at the code below, then write a sentence or two explaining the difference between args (short for arguments) and kwargs (keyword arguments)."
      ]
    },
    {
      "cell_type": "code",
      "metadata": {
        "id": "_5DA91EaijKG"
      },
      "source": [
        "def my_little_function(arg1, arg2, kwarg1=True, kwarg2='my cabbages!'):\n",
        "  if kwarg1:\n",
        "    print('Oh no, {}'.format(kwarg2))\n",
        "  else:\n",
        "    print(arg1 + arg2)\n",
        "\n",
        "# your explanation here"
      ],
      "execution_count": null,
      "outputs": []
    },
    {
      "cell_type": "markdown",
      "metadata": {
        "id": "u7N3mMAhkx2B"
      },
      "source": [
        "**3.6** What do you expect ``my_little_function`` to print for each of the examples below? Write out your expectations, then comment in the function calls to check."
      ]
    },
    {
      "cell_type": "code",
      "metadata": {
        "id": "nFp_SyiTksG2",
        "colab": {
          "base_uri": "https://localhost:8080/"
        },
        "outputId": "f6079858-fba7-4652-c1d9-54a251ef9c5e"
      },
      "source": [
        "args = [1, 2]\n",
        "kwargs = {'kwarg1': False, 'kwarg2':'your cabbages?'}\n",
        "other_kwargs = {'kwarg2':'whose cabbage is it anyway?'}\n",
        "\n",
        "#my_little_function(*args)\n",
        "#\n",
        "# write your expectation here\n",
        "#\n",
        "\n",
        "my_little_function(*args, **kwargs)\n",
        "#\n",
        "# write your expectation here\n",
        "#\n",
        "\n",
        "# my_little_function(*args, **other_kwargs)\n",
        "#\n",
        "# write your expectation here\n",
        "#\n",
        "\n",
        "# my_little_function(**kwargs)\n",
        "#\n",
        "# write your expectation here\n",
        "#"
      ],
      "execution_count": null,
      "outputs": [
        {
          "output_type": "stream",
          "name": "stdout",
          "text": [
            "3\n"
          ]
        }
      ]
    },
    {
      "cell_type": "markdown",
      "metadata": {
        "id": "yp3SAV7zU1Xn"
      },
      "source": [
        "### IV. Imports"
      ]
    },
    {
      "cell_type": "markdown",
      "metadata": {
        "id": "_zUNeHyeU1Xn"
      },
      "source": [
        "**4.1** Consider the following line of code:\n",
        "\n",
        "``import scipy.ndimage``\n",
        "\n",
        "Using this line of code as an example, explain the difference between packages and modules. Do all packages need modules and do all modules need packages?"
      ]
    },
    {
      "cell_type": "code",
      "metadata": {
        "id": "nADIVmi1U1Xn"
      },
      "source": [],
      "execution_count": null,
      "outputs": []
    },
    {
      "cell_type": "code",
      "metadata": {
        "id": "GRfLLrR5U1Xn"
      },
      "source": [],
      "execution_count": null,
      "outputs": []
    },
    {
      "cell_type": "markdown",
      "metadata": {
        "id": "ay7VoB6UU1Xn"
      },
      "source": [
        "**4.2** I want to use the following functions from python's `math` module: `sqrt`, `sin`, `cos`, `tan`. Write a single line of code that imports all four of these functions (there are multiple solutions). Note that it is not recommended to use the wildcard `*` when importing as it often imports many other variables, which can have unintended consequences!"
      ]
    },
    {
      "cell_type": "code",
      "metadata": {
        "id": "ZDGgWk-mU1Xo"
      },
      "source": [],
      "execution_count": null,
      "outputs": []
    },
    {
      "cell_type": "markdown",
      "metadata": {
        "id": "4vulscjAU1Xo"
      },
      "source": [
        "**4.3** Import the package `numpy` as the variable `np` and evaluate sin(0.5) using the `sin` function available in both `math` and  `numpy`.  Do they agree?"
      ]
    },
    {
      "cell_type": "code",
      "metadata": {
        "id": "8GbLc2n2U1Xo",
        "colab": {
          "base_uri": "https://localhost:8080/"
        },
        "outputId": "11848b11-7a45-4a85-e518-efc8fa9205d9"
      },
      "source": [],
      "execution_count": null,
      "outputs": [
        {
          "output_type": "stream",
          "name": "stdout",
          "text": [
            "0.479425538604203\n",
            "0.479425538604203\n"
          ]
        }
      ]
    },
    {
      "cell_type": "markdown",
      "metadata": {
        "id": "EplZph88U1Xo"
      },
      "source": [
        "### V: String Formatting"
      ]
    },
    {
      "cell_type": "markdown",
      "metadata": {
        "id": "GKiY0IWzU1Xo"
      },
      "source": [
        "**5.1** Use string formatting to print out the randomly generated number stored in the variable `rand` to 5 decimal places. For example, if the random number is 0.12984737, the output should be `0.12985`. In the code below, we have already generated the random number for you."
      ]
    },
    {
      "cell_type": "code",
      "metadata": {
        "id": "x4iaZ6h4U1Xp"
      },
      "source": [
        "import random\n",
        "rand = random.random()\n",
        "\n",
        "# print something here"
      ],
      "execution_count": null,
      "outputs": []
    },
    {
      "cell_type": "code",
      "metadata": {
        "id": "OrLoKbbBU1Xp"
      },
      "source": [],
      "execution_count": null,
      "outputs": []
    },
    {
      "cell_type": "markdown",
      "metadata": {
        "id": "4LzkB_zcU1Xp"
      },
      "source": [
        "**5.2** Use string formatting to print out your python version and your python executable directory. We have stored your python executable directory in `python_dir`, your python major version number in `python_version_major`, and your python minor version number in `python_version_minor`. For example, if my python executable is in `/home/codeastro/anaconda3`, my python major version number is `3`, and my python minor version number is `8`, I should print out the following:\n",
        "\n",
        "`Python 3.8 can be run from /home/codeastro/anaconda3 folder`"
      ]
    },
    {
      "cell_type": "code",
      "metadata": {
        "id": "TurLLQHxU1Xp"
      },
      "source": [
        "import sys\n",
        "python_dir = sys.prefix\n",
        "python_version_major = sys.version_info.major\n",
        "python_version_minor = sys.version_info.minor\n",
        "\n",
        "### print something here"
      ],
      "execution_count": null,
      "outputs": []
    },
    {
      "cell_type": "markdown",
      "metadata": {
        "id": "1T963bTaU1Xq"
      },
      "source": [
        "### VI: Lists"
      ]
    },
    {
      "cell_type": "markdown",
      "metadata": {
        "id": "JPR62AqsU1Xq"
      },
      "source": [
        "Here are three different ways to construct a list\n",
        "\n",
        "1. Within a loop\n",
        "1. Using list comprehension (see https://www.pythonforbeginners.com/basics/list-comprehensions-in-python)\n",
        "1. Using the multiplication property of lists (see https://thehelloworldprogram.com/python/python-list-operations/)\n",
        "\n",
        "First, lets create a 100-element long list filled with zeros using a for loop"
      ]
    },
    {
      "cell_type": "code",
      "metadata": {
        "id": "KUsj7kkmU1Xq"
      },
      "source": [
        "zeros = []\n",
        "for i in range(100):\n",
        "    zeros.append(0)"
      ],
      "execution_count": null,
      "outputs": []
    },
    {
      "cell_type": "markdown",
      "metadata": {
        "id": "yRdYqRBpU1Xq"
      },
      "source": [
        "**6.1** Now use list multiplication to create the same 100-element long list filled with zeros"
      ]
    },
    {
      "cell_type": "code",
      "metadata": {
        "id": "m4Fcq7wmU1Xq"
      },
      "source": [],
      "execution_count": null,
      "outputs": []
    },
    {
      "cell_type": "markdown",
      "metadata": {
        "id": "_m8u0cT3U1Xq"
      },
      "source": [
        "**(*) 6.2** Use list comprehension to create a list containing all even numbers between 0 and 100 with a single line of code."
      ]
    },
    {
      "cell_type": "code",
      "metadata": {
        "id": "HOwA17tGU1Xr"
      },
      "source": [],
      "execution_count": null,
      "outputs": []
    },
    {
      "cell_type": "markdown",
      "metadata": {
        "id": "kkeQ4KSnU1Xr"
      },
      "source": [
        "As you saw in exercise 6.1, list operators operate on the entire list, not on the individual elements.\n",
        "\n",
        "**6.3** Add 1 to each element in the list. Save the modified list into a new variable called \"ones\""
      ]
    },
    {
      "cell_type": "code",
      "metadata": {
        "id": "-_J0VCzdU1Xr"
      },
      "source": [],
      "execution_count": null,
      "outputs": []
    },
    {
      "cell_type": "markdown",
      "metadata": {
        "id": "xWKZXdVjU1Xr"
      },
      "source": [
        "### VII: Numpy Arrays"
      ]
    },
    {
      "cell_type": "markdown",
      "metadata": {
        "id": "KEpwq85GU1Xr"
      },
      "source": [
        "It is quite common in astronomy and many other applications to perform mathematical operations on each element of a list or array. Using the built-in Python list type forces you to loop over the items in the list and operate on the elements one at a time. Looping over long lists in Python is very slow and bad practice.\n",
        "\n",
        "Using numpy arrays allows for operations to be performed on an entire array at once. In reality a loop is still happening, but the numpy team programmed the loop in C so that it is much much faster.\n",
        "\n",
        "Numpy can do a lot more than vector operations. Its a large, powerful package that you will use very often. See https://numpy.org for more information.\n",
        "\n",
        "This example illustrates the different behavior for the + operator for lists and arrays."
      ]
    },
    {
      "cell_type": "code",
      "metadata": {
        "colab": {
          "base_uri": "https://localhost:8080/"
        },
        "id": "pWtGXaWYU1Xr",
        "outputId": "a219a63f-ee02-48c3-9b33-d0251ff7d0c9"
      },
      "source": [
        "import numpy as np\n",
        "\n",
        "x = [1, 2, 3, 4, 5]\n",
        "# lets divide each element by 2\n",
        "for i in range(len(x)):\n",
        "    x[i] /= 2\n",
        "\n",
        "# Now lets do the same with a numpy array\n",
        "x = np.array([1, 2, 3, 4, 5])\n",
        "x = x / 2\n",
        "\n",
        "# See how easy!\n",
        "\n",
        "# We can also create arrays with more than one dimension\n",
        "# this creates a 3D array with shape 10 rows by 12 columns\n",
        "arr = np.zeros((10, 12))\n",
        "\n",
        "# use the .shape attribute of the array to check the shape\n",
        "print(arr.shape)\n",
        "\n",
        "# We can use indexing and slicing to extract and/or operate on a subset of an array\n",
        "# see https://www.pythoninformer.com/python-libraries/numpy/index-and-slice/\n",
        "# lets add 1 to the single element that is in the 0th position in both the rows and columns\n",
        "arr[0, 0] = 1\n",
        "\n",
        "# now add 10 to everything in the in the 0th row (first dimension)\n",
        "arr[0, :] += 10\n",
        "# now everything in the 10th column (second dimension)\n",
        "arr[:, 10] += 10\n",
        "# now every other element in the 4th row\n",
        "arr[4, ::2] += 10\n",
        "\n",
        "print(arr)"
      ],
      "execution_count": null,
      "outputs": [
        {
          "output_type": "stream",
          "text": [
            "(10, 12)\n",
            "[[11. 10. 10. 10. 10. 10. 10. 10. 10. 10. 20. 10.]\n",
            " [ 0.  0.  0.  0.  0.  0.  0.  0.  0.  0. 10.  0.]\n",
            " [ 0.  0.  0.  0.  0.  0.  0.  0.  0.  0. 10.  0.]\n",
            " [ 0.  0.  0.  0.  0.  0.  0.  0.  0.  0. 10.  0.]\n",
            " [10.  0. 10.  0. 10.  0. 10.  0. 10.  0. 20.  0.]\n",
            " [ 0.  0.  0.  0.  0.  0.  0.  0.  0.  0. 10.  0.]\n",
            " [ 0.  0.  0.  0.  0.  0.  0.  0.  0.  0. 10.  0.]\n",
            " [ 0.  0.  0.  0.  0.  0.  0.  0.  0.  0. 10.  0.]\n",
            " [ 0.  0.  0.  0.  0.  0.  0.  0.  0.  0. 10.  0.]\n",
            " [ 0.  0.  0.  0.  0.  0.  0.  0.  0.  0. 10.  0.]]\n"
          ],
          "name": "stdout"
        }
      ]
    },
    {
      "cell_type": "markdown",
      "metadata": {
        "id": "LTRWcqlwU1Xs"
      },
      "source": [
        "**7.1** Create a 9x9 array filled with 1 in every element. Hint: there is a `np.ones` function too."
      ]
    },
    {
      "cell_type": "code",
      "metadata": {
        "id": "BvCX-lCTU1Xs"
      },
      "source": [],
      "execution_count": null,
      "outputs": []
    },
    {
      "cell_type": "markdown",
      "metadata": {
        "id": "eQPmQ1bfU1Xs"
      },
      "source": [
        "**7.2** Multiply every element in the 0th row by 100 using slicing"
      ]
    },
    {
      "cell_type": "code",
      "metadata": {
        "id": "kn5pbAdCU1Xs"
      },
      "source": [],
      "execution_count": null,
      "outputs": []
    },
    {
      "cell_type": "markdown",
      "metadata": {
        "id": "BauGXcLdU1Xu"
      },
      "source": [
        "Your array should now look like this:"
      ]
    },
    {
      "cell_type": "markdown",
      "metadata": {
        "id": "cFomkQsSgg5R"
      },
      "source": [
        "[[100. 100. 100. 100. 100. 100. 100. 100. 100.] \\\\\n",
        " [  1.   1.   1.   1.   1.   1.   1.   1.   1.] \\\\\n",
        " [  1.   1.   1.   1.   1.   1.   1.   1.   1.] \\\\\n",
        " [  1.   1.   1.   1.   1.   1.   1.   1.   1.] \\\\\n",
        " [  1.   1.   1.   1.   1.   1.   1.   1.   1.] \\\\\n",
        " [  1.   1.   1.   1.   1.   1.   1.   1.   1.] \\\\\n",
        " [  1.   1.   1.   1.   1.   1.   1.   1.   1.] \\\\\n",
        " [  1.   1.   1.   1.   1.   1.   1.   1.   1.] \\\\\n",
        " [  1.   1.   1.   1.   1.   1.   1.   1.   1.]]"
      ]
    },
    {
      "cell_type": "markdown",
      "metadata": {
        "id": "Iasy3hb3U1Xv"
      },
      "source": [
        "**(*) 7.3** Extract every 3rd element from the 4th column of the array that you created in step 6.2"
      ]
    },
    {
      "cell_type": "code",
      "metadata": {
        "id": "A_-4cZS7U1Xv"
      },
      "source": [],
      "execution_count": null,
      "outputs": []
    },
    {
      "cell_type": "markdown",
      "metadata": {
        "id": "BNOG00ldU1Xw"
      },
      "source": [
        "**7.4** Reshape the array into a 1-dimensional vector"
      ]
    },
    {
      "cell_type": "code",
      "metadata": {
        "id": "4f5VfEzsU1Xw"
      },
      "source": [],
      "execution_count": null,
      "outputs": []
    },
    {
      "cell_type": "markdown",
      "metadata": {
        "id": "LaFB6SLaU1Xw"
      },
      "source": [
        "**7.5** Modify the 4th element of the vector ``x``, defined below. Change the value to 20."
      ]
    },
    {
      "cell_type": "code",
      "metadata": {
        "id": "E2Ck2V9VU1Xw"
      },
      "source": [
        "x = np.array([0, 1, 2, 3, 4, 5, 6])\n",
        "y = x"
      ],
      "execution_count": null,
      "outputs": []
    },
    {
      "cell_type": "markdown",
      "metadata": {
        "id": "oYAjdO_SU1Xw"
      },
      "source": [
        "**7.6** Print the 4th element of the vector y. Was y also modified as a result of modifying x?"
      ]
    },
    {
      "cell_type": "code",
      "metadata": {
        "id": "r5c0WycyU1Xw"
      },
      "source": [],
      "execution_count": null,
      "outputs": []
    },
    {
      "cell_type": "markdown",
      "metadata": {
        "id": "DSzuMs8NU1Xw"
      },
      "source": [
        "If I wanted to loop over the lines of a file and append each line to a list but I don't know how many lines are in the file, would it be more appropriate to use a list or an array? Check out [this post](https://www.geeksforgeeks.org/difference-between-list-and-array-in-python/) for a quick arrays vs lists reference."
      ]
    },
    {
      "cell_type": "code",
      "metadata": {
        "id": "_DLb3WRIU1Xw"
      },
      "source": [],
      "execution_count": null,
      "outputs": []
    },
    {
      "cell_type": "markdown",
      "metadata": {
        "id": "keRP_IHsU1Xw"
      },
      "source": [
        "If I needed to calculate the square root of 10000 numbers would it be better to use a list or an array?"
      ]
    },
    {
      "cell_type": "code",
      "metadata": {
        "id": "KveHjSaMU1Xx"
      },
      "source": [],
      "execution_count": null,
      "outputs": []
    },
    {
      "cell_type": "markdown",
      "metadata": {
        "id": "7sdePBJeU1Xx"
      },
      "source": [
        "### VIII: Dictionaries"
      ]
    },
    {
      "cell_type": "markdown",
      "metadata": {
        "id": "5QsHpo6aU1Xx"
      },
      "source": [
        "**8.1** Construct a dictionary where the keys are the elements of the `lorem` list below and the values are the 2nd character in each word. First construct this dictionary using a loop, then construct the same dictionary using dictionary comprehension. See here https://www.geeksforgeeks.org/python-dictionary-comprehension/ for dictionary comprehension syntax."
      ]
    },
    {
      "cell_type": "code",
      "metadata": {
        "id": "hh_nQNU0U1Xx"
      },
      "source": [
        "lorem = ['Lorem', 'ipsum', 'dolor', 'sit', 'amet,', 'consectetur',\n",
        "         'adipiscing', 'elit,', 'sed', 'do', 'eiusmod', 'tempor',\n",
        "         'incididunt', 'ut', 'labore', 'et', 'dolore', 'magna', 'aliqua.']"
      ],
      "execution_count": null,
      "outputs": []
    },
    {
      "cell_type": "markdown",
      "metadata": {
        "id": "nA6aj-QvU1Xx"
      },
      "source": [
        "**8.2** Update the values to 0 for the following keys without using a loop. Hint: lookup the `update` method for Python dictionaries"
      ]
    },
    {
      "cell_type": "code",
      "metadata": {
        "id": "FE2W_qyfU1Xx"
      },
      "source": [
        "changes = ['dolor', 'elit', 'tempor', 'magna']"
      ],
      "execution_count": null,
      "outputs": []
    },
    {
      "cell_type": "markdown",
      "metadata": {
        "id": "sCtnGU_DU1Xx"
      },
      "source": [
        "**8.3** Loop over the key value pairs and print each pair in the following format `<key>: <value>`"
      ]
    },
    {
      "cell_type": "code",
      "metadata": {
        "id": "B29UUqe1U1Xy"
      },
      "source": [],
      "execution_count": null,
      "outputs": []
    },
    {
      "cell_type": "markdown",
      "metadata": {
        "id": "oZbblTs9U1Xy"
      },
      "source": [
        "**8.4** Remove all key/value pairs where the value is \"o\""
      ]
    },
    {
      "cell_type": "code",
      "metadata": {
        "id": "asfG-MmVU1Xy"
      },
      "source": [],
      "execution_count": null,
      "outputs": []
    },
    {
      "cell_type": "markdown",
      "metadata": {
        "id": "V2r5qg8AXpMQ"
      },
      "source": [
        "### IX: Plotting with matplotlib"
      ]
    },
    {
      "cell_type": "markdown",
      "metadata": {
        "id": "9n1fVcDkb1Xp"
      },
      "source": [
        "**9.1** Initialize a figure using ``matplotlib``. Plot ``x`` vs ``y`` as a black solid line, and ``x`` vs ``z`` as a scatterplot on the same figure."
      ]
    },
    {
      "cell_type": "code",
      "metadata": {
        "id": "BHDHEbv_XuTI"
      },
      "source": [
        "import matplotlib.pyplot as plt\n",
        "\n",
        "x = np.arange(10)\n",
        "y = np.arange(10)\n",
        "z = np.arange(10) + 1\n",
        "\n",
        "# your code here"
      ],
      "execution_count": null,
      "outputs": []
    },
    {
      "cell_type": "markdown",
      "metadata": {
        "id": "CkADTsVRc4Xv"
      },
      "source": [
        "**9.2** Make the y axis of your plot above log-scale. Add x- and y-axis labels. Add a legend. Change the color and size of the markers used for the scatterplot."
      ]
    }
  ]
}